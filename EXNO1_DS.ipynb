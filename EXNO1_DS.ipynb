{
  "nbformat": 4,
  "nbformat_minor": 0,
  "metadata": {
    "colab": {
      "provenance": []
    },
    "kernelspec": {
      "name": "python3",
      "display_name": "Python 3"
    },
    "language_info": {
      "name": "python"
    }
  },
  "cells": [
    {
      "cell_type": "code",
      "execution_count": 1,
      "metadata": {
        "id": "2n5hINjQjg0I"
      },
      "outputs": [],
      "source": [
        "import pandas as pd"
      ]
    },
    {
      "cell_type": "code",
      "source": [
        "#READ CSV FILE HERE"
      ],
      "metadata": {
        "id": "ekd2--UNjzBH"
      },
      "execution_count": null,
      "outputs": []
    },
    {
      "cell_type": "code",
      "source": [
        "#DISPLAY THE INFORMATION ABOUT CSV AND RUN THE BASIC DATA ANALYSIS FUNCTIONS"
      ],
      "metadata": {
        "id": "aO664SaXj_Kh"
      },
      "execution_count": null,
      "outputs": []
    },
    {
      "cell_type": "code",
      "source": [
        "#CHECK OUT NULL VALUES IN DATA SET USING FUNCTION"
      ],
      "metadata": {
        "id": "TEJVe1oJkTOn"
      },
      "execution_count": null,
      "outputs": []
    },
    {
      "cell_type": "code",
      "source": [
        "#DISPLAY THE SUM ON NULL VALUES IN EACH ROWS"
      ],
      "metadata": {
        "id": "lrWtOZnOkbLw"
      },
      "execution_count": null,
      "outputs": []
    },
    {
      "cell_type": "code",
      "source": [
        "#DROP NULL VALUES"
      ],
      "metadata": {
        "id": "x6UvnVeqk-FU"
      },
      "execution_count": null,
      "outputs": []
    },
    {
      "cell_type": "code",
      "source": [
        "#FILL NULL VALUES WITH CONSTANT VALUE \"O\""
      ],
      "metadata": {
        "id": "uD30INvylADq"
      },
      "execution_count": null,
      "outputs": []
    },
    {
      "cell_type": "code",
      "source": [
        "#FILL NULL VALUES WITH ffill or bfill METHOD"
      ],
      "metadata": {
        "id": "ElyTR_kMlKN_"
      },
      "execution_count": null,
      "outputs": []
    },
    {
      "cell_type": "code",
      "source": [
        "#CALCULATE MEAN VALUE OF A COLUMN AND FILL IT WITH NULL VALUES"
      ],
      "metadata": {
        "id": "J3j5JMTPlpMs"
      },
      "execution_count": null,
      "outputs": []
    },
    {
      "cell_type": "code",
      "source": [
        "#DROP NULL VALUES"
      ],
      "metadata": {
        "id": "DDfELIRflWsN"
      },
      "execution_count": null,
      "outputs": []
    },
    {
      "cell_type": "code",
      "source": [
        "import pandas as pd\n",
        "import seaborn as sns"
      ],
      "metadata": {
        "id": "iSh4e4qhlxKX"
      },
      "execution_count": null,
      "outputs": []
    },
    {
      "cell_type": "code",
      "source": [
        "age=[1,3,28,27,25,92,30,39,40,50,26,24,29,94]\n",
        "af=pd.DataFrame(age)\n",
        "af"
      ],
      "metadata": {
        "id": "06nuEZyumfvO"
      },
      "execution_count": null,
      "outputs": []
    },
    {
      "cell_type": "code",
      "source": [
        "#USE BOXPLOT FUNCTION HERE TO DETECT OUTLIER\n"
      ],
      "metadata": {
        "id": "WjmFpMJOmkcg"
      },
      "execution_count": null,
      "outputs": []
    },
    {
      "cell_type": "code",
      "source": [
        "#PERFORM IQR METHOD AND DETECT OUTLIER VALUES"
      ],
      "metadata": {
        "id": "ORTl2Iv5muIV"
      },
      "execution_count": null,
      "outputs": []
    },
    {
      "cell_type": "code",
      "source": [
        "#REMOVE OUTLIERS"
      ],
      "metadata": {
        "id": "wGJfyBhQm1_C"
      },
      "execution_count": null,
      "outputs": []
    },
    {
      "cell_type": "code",
      "source": [
        "#USE BOXPLOT FUNCTION HERE TO CHECK OUTLIER IS REMOVED"
      ],
      "metadata": {
        "id": "uo-X2gZ9nCXz"
      },
      "execution_count": null,
      "outputs": []
    },
    {
      "cell_type": "code",
      "source": [
        "from scipy import stats #STATS METHOD IS USED TO IMPLEMENT Z SCORE METHOD"
      ],
      "metadata": {
        "id": "0Qs-5pjBnstE"
      },
      "execution_count": null,
      "outputs": []
    },
    {
      "cell_type": "code",
      "source": [
        "data=[1,12,15,18,21,24,27,30,33,36,39,42,45,48,51,54,57,60,63,66,69,72,75,78,81,84,87,90,93,96,99,158]\n",
        "df=pd.DataFrame(data)"
      ],
      "metadata": {
        "id": "hfmvZRVEnOJ4"
      },
      "execution_count": null,
      "outputs": []
    },
    {
      "cell_type": "code",
      "source": [
        "#USE BOXPLOT FUNCTION HERE TO DETECT OUTLIER"
      ],
      "metadata": {
        "id": "pdGFPLTTnOvd"
      },
      "execution_count": null,
      "outputs": []
    },
    {
      "cell_type": "code",
      "source": [
        "#PERFORM Z SCORE METHOD AND DETECT OUTLIER VALUES"
      ],
      "metadata": {
        "id": "-11Af00_nTT-"
      },
      "execution_count": null,
      "outputs": []
    },
    {
      "cell_type": "code",
      "source": [
        "#REMOVE OUTLIERS"
      ],
      "metadata": {
        "id": "1XlGC0YZnWth"
      },
      "execution_count": null,
      "outputs": []
    },
    {
      "cell_type": "code",
      "source": [
        "#USE BOXPLOT FUNCTION HERE TO CHECK OUTLIER IS REMOVED"
      ],
      "metadata": {
        "id": "xHlAQ3O5ncsp"
      },
      "execution_count": null,
      "outputs": []
    }
  ]
}